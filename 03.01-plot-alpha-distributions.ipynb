{
 "cells": [
  {
   "cell_type": "code",
   "execution_count": 1,
   "metadata": {},
   "outputs": [],
   "source": [
    "import matplotlib.pyplot as plt\n",
    "from biom import Table, load_table\n",
    "from biom.util import biom_open\n",
    "from functools import partial\n",
    "from skbio import TreeNode\n",
    "import numpy as np\n",
    "import pandas as pd\n",
    "from unifrac import faith_pd\n",
    "from tempfile import NamedTemporaryFile\n",
    "import multiprocessing\n",
    "import itertools\n",
    "from itertools import repeat\n",
    "import json\n",
    "import matplotlib\n",
    "import seaborn as sns\n",
    "N_WORKERS = multiprocessing.cpu_count()"
   ]
  },
  {
   "cell_type": "code",
   "execution_count": 2,
   "metadata": {},
   "outputs": [],
   "source": [
    "table_MG_path = 'data/finrisk/anonymized-finrisk-MG-BL_AGE-filtered_rarefied_table.biom'\n",
    "finrisk_metadata_path = 'data/finrisk/anonymized.age-only.finrisk.metadata.txt'\n",
    "wol_tree_path = 'data/wol/wol-tree.nwk'"
   ]
  },
  {
   "cell_type": "code",
   "execution_count": 3,
   "metadata": {},
   "outputs": [],
   "source": [
    "table_MG = load_table(table_MG_path)\n",
    "metadata = pd.read_csv(finrisk_metadata_path, sep='\\t', low_memory=False, index_col=0)"
   ]
  },
  {
   "cell_type": "code",
   "execution_count": 4,
   "metadata": {},
   "outputs": [],
   "source": [
    "class FaithPDAnalysis:\n",
    "    \n",
    "    def __init__(self, table_path, tree_path, metadata):\n",
    "        self.table_path = table_path\n",
    "        self.tree_path = tree_path\n",
    "        self.metadata = metadata\n",
    "        self.faith_pd = None\n",
    "        \n",
    "    def convert_table(self):\n",
    "        pass\n",
    "        \n",
    "    def convert_tree(self):\n",
    "        pass\n",
    "        \n",
    "    def get_faith_pd(self):\n",
    "        self.convert_table()\n",
    "        self.convert_tree()\n",
    "        table_biom_path = self.table_path\n",
    "        tree_path = self.tree_path\n",
    "        faith_series = pd.DataFrame(faith_pd(table_biom_path, tree_path))\n",
    "        faith_series.index.name = '#SampleID'\n",
    "        self.faith_pd = faith_series\n",
    "        return faith_series\n",
    "    \n",
    "    def get_observed_otus(self):\n",
    "        table = load_table(self.table_path)\n",
    "        observed_otus = pd.DataFrame((table.matrix_data > 0).sum(axis=0)).transpose()\n",
    "        observed_otus.index = table.ids('sample')\n",
    "        observed_otus.index.name = '#SampleID'\n",
    "        observed_otus.columns = ['observed_otus']\n",
    "        self.observed_otus = observed_otus\n",
    "        return observed_otus\n",
    "    \n",
    "    def merge_metadata(self):\n",
    "        faith_pd = self.get_faith_pd()\n",
    "        observed_otus = self.get_observed_otus()\n",
    "        self.metadata = faith_pd.join(observed_otus).join(self.metadata)\n",
    "        return self.metadata\n",
    "    \n",
    "    def filter_metadata(self, fn):\n",
    "        self.metadata = self.metadata.loc[fn(self.metadata)]\n",
    "        return self.metadata\n",
    "    \n",
    "    def boolean_splitter(self, fn, metadata=None):\n",
    "        if metadata is None:\n",
    "            metadata = self.metadata\n",
    "        bools = fn(metadata)\n",
    "        return metadata[bools], metadata[~bools]\n",
    "    \n",
    "    def make_splitter(self, fn):\n",
    "        def f(metadata):\n",
    "            bools = fn(metadata)\n",
    "            return metadata[bools], metadata[~bools]\n",
    "        return f"
   ]
  },
  {
   "cell_type": "code",
   "execution_count": 5,
   "metadata": {},
   "outputs": [],
   "source": [
    "fpd_MG = FaithPDAnalysis(table_MG_path, wol_tree_path, metadata)\n",
    "fpd_MG.merge_metadata()\n",
    "\n",
    "TARGET = 'BL_AGE'\n",
    "\n",
    "age_filter = lambda x: (x[TARGET] >= 60) | (x[TARGET] <= 35)\n",
    "dataset_MG = fpd_MG.filter_metadata(age_filter)\n",
    "\n",
    "def age_splitter(x): return x.loc[(x[TARGET] >= 60)], x.loc[(x[TARGET] <= 35)]\n",
    "\n",
    "partial_splitter = fpd_MG.make_splitter(age_splitter)\n",
    "\n",
    "datasets = {\n",
    "    'MG': dataset_MG\n",
    "}"
   ]
  },
  {
   "cell_type": "code",
   "execution_count": 6,
   "metadata": {},
   "outputs": [],
   "source": [
    "age_cat = np.where(datasets['MG']['BL_AGE'] < 50, 'Young (<=35)', 'Old (>60)')"
   ]
  },
  {
   "cell_type": "code",
   "execution_count": 7,
   "metadata": {},
   "outputs": [],
   "source": [
    "datasets['MG']['age_cat'] = age_cat"
   ]
  },
  {
   "cell_type": "code",
   "execution_count": 8,
   "metadata": {},
   "outputs": [
    {
     "data": {
      "image/png": "[encoded data removed]",
      "text/plain": [
       "<Figure size 720x595.44 with 1 Axes>"
      ]
     },
     "metadata": {},
     "output_type": "display_data"
    }
   ],
   "source": [
    "sns.set_theme(\n",
    "    font_scale=1.7,\n",
    "    rc={'figure.figsize':(10,8.27)}\n",
    ")\n",
    "sns.set_style(\"whitegrid\")\n",
    "\n",
    "ax = sns.boxplot(\n",
    "    x='age_cat',\n",
    "    y='faith_pd',\n",
    "    data=datasets['MG'].sort_values(by='age_cat', ascending=False),\n",
    "    palette=[\n",
    "        '#008000',\n",
    "        '#800080',\n",
    "\n",
    "    ],\n",
    "    hue_order=[\n",
    "        'Young',\n",
    "        'Old',\n",
    "    ]\n",
    ")\n",
    "\n",
    "ax.set_xticklabels(['Young (<=35)\\nn=1098', 'Old (>=60)\\nn=1563'])\n",
    "ax.set_ylabel('Faith\\'s PD')\n",
    "ax.set_xlabel('Age Category')\n",
    "plt.savefig('results/03.01-alpha-distributions-young-old.png')\n",
    "plt.show()"
   ]
  }
 ],
 "metadata": {
  "kernelspec": {
   "display_name": "faith-pd-bench",
   "language": "python",
   "name": "faith-pd-bench"
  },
  "language_info": {
   "codemirror_mode": {
    "name": "ipython",
    "version": 3
   },
   "file_extension": ".py",
   "mimetype": "text/x-python",
   "name": "python",
   "nbconvert_exporter": "python",
   "pygments_lexer": "ipython3",
   "version": "3.6.11"
  }
 },
 "nbformat": 4,
 "nbformat_minor": 2
}
