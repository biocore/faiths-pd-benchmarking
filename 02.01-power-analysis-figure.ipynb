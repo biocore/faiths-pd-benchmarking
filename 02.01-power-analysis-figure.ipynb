{
 "cells": [
  {
   "cell_type": "code",
   "execution_count": 1,
   "metadata": {},
   "outputs": [],
   "source": [
    "from biom import Table, load_table\n",
    "from biom.util import biom_open\n",
    "from unifrac import faith_pd\n",
    "from skbio import TreeNode\n",
    "import pandas as pd\n",
    "import seaborn as sns\n",
    "from scipy import stats\n",
    "import numpy as np\n",
    "from statsmodels.stats import multitest\n",
    "import os\n",
    "from sklearn.utils import resample\n",
    "import matplotlib\n",
    "%matplotlib inline\n",
    "\n",
    "import matplotlib.pyplot as plt\n",
    "\n",
    "import multiprocessing\n",
    "from multiprocessing import Pool\n",
    "from itertools import repeat\n",
    "N_WORKERS = multiprocessing.cpu_count()\n"
   ]
  },
  {
   "cell_type": "code",
   "execution_count": 2,
   "metadata": {},
   "outputs": [],
   "source": [
    "def load_biom(data):\n",
    "    table_path = data['table_biom_path']\n",
    "    table_biom = load_table(table_path)\n",
    "    return table_biom\n",
    "\n",
    "\n",
    "def filter_max_frequency(table, threshold=1):\n",
    "    maxes = table.max('observation')\n",
    "    above_threshold = (maxes > threshold)\n",
    "    ids_to_keep = table.ids('observation')[above_threshold]\n",
    "    filtered_table = table.filter(ids_to_keep, inplace=False, axis='observation')\n",
    "    return filtered_table\n",
    "\n",
    "\n",
    "def calculate_faiths_pd(data):\n",
    "    table_biom_path = data['table_biom_path']\n",
    "    tree_path = data['tree_path']\n",
    "    faith_series = pd.DataFrame(faith_pd(table_biom_path, tree_path))\n",
    "    faith_series.index.name = '#SampleID'\n",
    "    return faith_series"
   ]
  },
  {
   "cell_type": "code",
   "execution_count": 3,
   "metadata": {},
   "outputs": [],
   "source": [
    "tree_path = 'data/wol/astral.cons.nid.e5p50.nwk'\n",
    "wol_tree_path = 'data/wol/wol-tree.nwk'"
   ]
  },
  {
   "cell_type": "code",
   "execution_count": 4,
   "metadata": {},
   "outputs": [],
   "source": [
    "wol_metadata = pd.read_csv('data/wol/wolMetadata.tsv', sep='\\t', index_col=0)"
   ]
  },
  {
   "cell_type": "code",
   "execution_count": 5,
   "metadata": {},
   "outputs": [],
   "source": [
    "dataset = 'finrisk'\n",
    "target = 'BL_AGE'\n",
    "finrisk_data = {\n",
    "    'table_biom_path': f'data/{dataset}/anonymized-{dataset}-MG-{target}-filtered_rarefied_table.biom',\n",
    "    'tree_path': wol_tree_path,\n",
    "}\n",
    "finrisk_metadata_path = 'data/finrisk/anonymized.age-only.finrisk.metadata.txt'\n"
   ]
  },
  {
   "cell_type": "code",
   "execution_count": 6,
   "metadata": {},
   "outputs": [],
   "source": [
    "finrisk_16S_data = {\n",
    "    'table_biom_path': f'data/{dataset}/anonymized-{dataset}-16S-{target}-filtered_rarefied_table.biom',\n",
    "    'tree_path': 'data/finrisk/insertion_tree.relabelled.tre',\n",
    "}"
   ]
  },
  {
   "cell_type": "code",
   "execution_count": 7,
   "metadata": {},
   "outputs": [],
   "source": [
    "finrisk_faith_pd = calculate_faiths_pd(finrisk_data)\n",
    "finrisk_metadata = pd.read_csv(finrisk_metadata_path, sep='\\t').set_index('#SampleID')"
   ]
  },
  {
   "cell_type": "code",
   "execution_count": 8,
   "metadata": {},
   "outputs": [],
   "source": [
    "finrisk_table = load_biom(finrisk_data)"
   ]
  },
  {
   "cell_type": "code",
   "execution_count": 9,
   "metadata": {},
   "outputs": [],
   "source": [
    "finrisk_16S_table = load_biom(finrisk_16S_data)"
   ]
  },
  {
   "cell_type": "code",
   "execution_count": 10,
   "metadata": {},
   "outputs": [],
   "source": [
    "finrisk_wol_ids = finrisk_table.ids('observation')\n",
    "keep_ids = finrisk_wol_ids[wol_metadata.loc[finrisk_wol_ids]['superkingdom'] == 'Bacteria']"
   ]
  },
  {
   "cell_type": "code",
   "execution_count": 11,
   "metadata": {},
   "outputs": [
    {
     "data": {
      "text/plain": [
       "924 x 6424 <class 'biom.table.Table'> with 924847 nonzero entries (15% dense)"
      ]
     },
     "execution_count": 11,
     "metadata": {},
     "output_type": "execute_result"
    }
   ],
   "source": [
    "finrisk_table.filter(keep_ids, 'observation')"
   ]
  },
  {
   "cell_type": "code",
   "execution_count": 12,
   "metadata": {},
   "outputs": [],
   "source": [
    "def calculate_observed_otus(data):\n",
    "    table_biom = load_biom(data)\n",
    "    observed_otus = pd.DataFrame(\n",
    "        (table_biom.matrix_data > 0).sum(0).reshape(-1, 1),\n",
    "        columns=['observed_otus'],\n",
    "        index=pd.Series(\n",
    "            table_biom.ids('sample'),\n",
    "            name='#SampleID',\n",
    "        ),\n",
    "    )\n",
    "    return observed_otus"
   ]
  },
  {
   "cell_type": "code",
   "execution_count": 13,
   "metadata": {},
   "outputs": [],
   "source": [
    "observed_otus = calculate_observed_otus(finrisk_data)"
   ]
  },
  {
   "cell_type": "code",
   "execution_count": 14,
   "metadata": {},
   "outputs": [],
   "source": [
    "all_finrisk = finrisk_faith_pd.join(finrisk_metadata).join(observed_otus)"
   ]
  },
  {
   "cell_type": "code",
   "execution_count": 15,
   "metadata": {},
   "outputs": [],
   "source": [
    "faith_pd_16S = calculate_faiths_pd(finrisk_16S_data)\n",
    "observed_otus_16S = calculate_observed_otus(finrisk_16S_data)"
   ]
  },
  {
   "cell_type": "code",
   "execution_count": 16,
   "metadata": {},
   "outputs": [],
   "source": [
    "all_finrisk_16S = faith_pd_16S.join(observed_otus_16S).join(finrisk_metadata)\n",
    "all_finrisk_16S = all_finrisk_16S.loc[all_finrisk.index]"
   ]
  },
  {
   "cell_type": "code",
   "execution_count": 17,
   "metadata": {},
   "outputs": [],
   "source": [
    "datasets = {\n",
    "    '16S': all_finrisk_16S,\n",
    "    'shotgun': all_finrisk,\n",
    "}"
   ]
  },
  {
   "cell_type": "code",
   "execution_count": 18,
   "metadata": {},
   "outputs": [],
   "source": [
    "def is_old(x):\n",
    "    return x >= 60\n",
    "def is_young(x):\n",
    "    return x <= 35"
   ]
  },
  {
   "cell_type": "code",
   "execution_count": 19,
   "metadata": {},
   "outputs": [],
   "source": [
    "# check out this source on the bootstrap\n",
    "# https://wormlabcaltech.github.io/mprsq/stats_tutorial/nonparametric_bootstrapping.html\n",
    "# (the code below is liberally copy pasted)"
   ]
  },
  {
   "cell_type": "code",
   "execution_count": 20,
   "metadata": {},
   "outputs": [],
   "source": [
    "def non_parametric_bootstrap(x, f, nsim=10000, **kwargs):\n",
    "    \"\"\"\n",
    "    \n",
    "    Params:\n",
    "    x, y - data (numpy arrays)\n",
    "    f - test function to calculate\n",
    "    nsim - number of simulations to run\n",
    "    \"\"\"\n",
    "    statistic = np.zeros(nsim)\n",
    "    for i in range(nsim):\n",
    "        # simulate x\n",
    "        indices = np.random.randint(0, len(x), len(x))\n",
    "        X = x[indices]\n",
    "        X += np.random.normal(0, 0.05, len(x))\n",
    "        \n",
    "        statistic[i] = f(X, **kwargs)\n",
    "    \n",
    "    return statistic"
   ]
  },
  {
   "cell_type": "code",
   "execution_count": 21,
   "metadata": {},
   "outputs": [],
   "source": [
    "def print_mean_and_confidence_intervals(btstrp):\n",
    "    btstrp = np.sort(btstrp)\n",
    "    mean = btstrp.mean()\n",
    "    message = \"Mean = {0:.2g}; CI = [{1:.2g}, {2:.2g}]\"\n",
    "    five = int(np.floor(0.05*len(btstrp)))\n",
    "    ninetyfive = int(np.floor(0.95*len(btstrp)))\n",
    "    print(message.format(mean, btstrp[five], btstrp[ninetyfive]))\n",
    "\n",
    "def difference_of_means(x, y):\n",
    "    \"\"\"Calculate the difference in the means of two datasets x and y. Returns a scalar equal to mean(y) - mean(x)\"\"\"\n",
    "    return np.mean(y) - np.mean(x)\n",
    "\n",
    "def test_null(x, y, statistic, iters=1000):\n",
    "    \"\"\"\n",
    "    Given two datasets, test a null hypothesis using a permutation test for a given statistic.\n",
    "    \n",
    "    Params:\n",
    "    x, y -- ndarrays, the data\n",
    "    statistic -- a function of x and y\n",
    "    iters -- number of times to bootstrap\n",
    "    \n",
    "    Ouput:\n",
    "    a numpy array containing the bootstrapped statistic\n",
    "    \"\"\"\n",
    "    def permute(x, y):\n",
    "        \"\"\"Given two datasets, return randomly shuffled versions of them\"\"\"\n",
    "        # concatenate the data\n",
    "        new = np.concatenate([x, y])\n",
    "        # shuffle the data\n",
    "        np.random.shuffle(new)\n",
    "        # return the permuted data sets:\n",
    "        return new[:len(x)], new[len(x):]\n",
    "\n",
    "    # do the bootstrap\n",
    "    return np.array([statistic(*permute(x, y)) for _ in range(iters)])"
   ]
  },
  {
   "cell_type": "code",
   "execution_count": 22,
   "metadata": {},
   "outputs": [],
   "source": [
    "def power_estimate(dataset, subsample_size, n_power_iter=100, n_hypothesis_iter=10**5, alpha=0.05, map_=map):\n",
    "    alpha_metric = 'faith_pd'\n",
    "    \n",
    "    def f(x):\n",
    "        dataset, subsample_size, alpha_metric, n_hypothesis_iter = x\n",
    "        subsampled_dataset = dataset.sample(subsample_size)\n",
    "        old_df = subsampled_dataset[subsampled_dataset.AgeCategory == 'Old']\n",
    "        young_df = subsampled_dataset[subsampled_dataset.AgeCategory == 'Young']\n",
    "        old_alpha = old_df[alpha_metric]\n",
    "        young_alpha = young_df[alpha_metric]\n",
    "        diff = test_null(old_alpha, young_alpha, difference_of_means, iters=n_hypothesis_iter)\n",
    "        pvalue = len(diff[diff < young_alpha.mean() - old_alpha.mean()])/len(diff)\n",
    "        return pvalue\n",
    "        \n",
    "    params = (dataset, subsample_size, alpha_metric, n_hypothesis_iter)\n",
    "    domain = repeat(params, n_power_iter)\n",
    "    with Pool(N_WORKERS) as pool:\n",
    "        pvalues = pool.map(f, domain)\n",
    "        \n",
    "    pvalues = np.array(pvalues)\n",
    "    power = (pvalues <= alpha).mean()\n",
    "    return power, pvalues\n"
   ]
  },
  {
   "cell_type": "code",
   "execution_count": 23,
   "metadata": {},
   "outputs": [],
   "source": [
    "from functools import partial\n",
    "import random\n",
    "import itertools\n",
    "\n",
    "def power_estimate(dataset, subsample_size, alpha_metric, seed,  n_hypothesis_iter=10**5, alpha=0.05):\n",
    "    subsampled_dataset = dataset.sample(subsample_size, random_state=seed)\n",
    "    old_df = subsampled_dataset[subsampled_dataset.AgeCategory == 'Old']\n",
    "    young_df = subsampled_dataset[subsampled_dataset.AgeCategory == 'Young']\n",
    "    old_alpha = old_df[alpha_metric]\n",
    "    young_alpha = young_df[alpha_metric]\n",
    "    # set seed here before numpy does random things\n",
    "    np.random.seed(seed + 724)\n",
    "    diff = test_null(old_alpha, young_alpha, difference_of_means, iters=n_hypothesis_iter)\n",
    "    pvalue = len(diff[diff < young_alpha.mean() - old_alpha.mean()])/len(diff)\n",
    "    return pvalue        \n",
    "\n",
    "\n",
    "def calc_power(pvalues):\n",
    "    pvalues = np.array(pvalues)\n",
    "    power = (pvalues <= alpha).mean()\n",
    "    power, pvalues\n",
    "    return power\n",
    "\n",
    "data_type = '16S'\n",
    "alpha_metric = 'faith_pd'\n",
    "\n",
    "data_types = ['16S', 'shotgun']\n",
    "alpha_metrics = ['faith_pd', 'observed_otus']\n",
    "subsample_sizes = list(range(100, 1001, 100))\n",
    "\n",
    "info = (data_types, alpha_metrics, subsample_sizes)\n",
    "\n",
    "entries = []\n",
    "for i, (data_type, alpha_metric, subsample_size) in enumerate(itertools.product(*info)):\n",
    "\n",
    "    dataset = datasets[data_type]\n",
    "    dataset['AgeCategory'] = None\n",
    "    dataset.loc[is_old(dataset.BL_AGE), 'AgeCategory'] = 'Old'\n",
    "    dataset.loc[is_young(dataset.BL_AGE), 'AgeCategory'] = 'Young'\n",
    "    n_power_iter = 1000\n",
    "    n_hypothesis_iter = 1000\n",
    "    alpha = 0.05\n",
    "\n",
    "    power_partial = partial(power_estimate, \n",
    "                            dataset,\n",
    "                            subsample_size,\n",
    "                            alpha_metric,\n",
    "                            n_hypothesis_iter=n_hypothesis_iter,\n",
    "                            alpha=alpha,\n",
    "                            )\n",
    "\n",
    "    with Pool(N_WORKERS) as pool:\n",
    "        pvalues = pool.map(power_partial, range(n_power_iter))\n",
    "\n",
    "    power = calc_power(pvalues)\n",
    "    entries.extend([{'idx': i, 'pvalue': pvalue, 'data_type': data_type, 'metric': alpha_metric,\n",
    "                     'sample_size': subsample_size, 'power': power} for pvalue in pvalues])\n",
    "    "
   ]
  },
  {
   "cell_type": "code",
   "execution_count": 24,
   "metadata": {},
   "outputs": [],
   "source": [
    "import json\n",
    "import pandas as pd\n",
    "import matplotlib\n",
    "import matplotlib.pyplot as plt\n",
    "import seaborn as sns"
   ]
  },
  {
   "cell_type": "code",
   "execution_count": 25,
   "metadata": {},
   "outputs": [],
   "source": [
    "FULL_SHOTGUN_V_16S = 'results/2.01-power-calculation-all-v-all-1000--1000-v2.json'\n",
    "with open(FULL_SHOTGUN_V_16S, 'w') as fp:\n",
    "    json.dump(entries, fp)"
   ]
  },
  {
   "cell_type": "code",
   "execution_count": 26,
   "metadata": {},
   "outputs": [],
   "source": [
    "FULL_SHOTGUN_V_16S = 'results/2.01-power-calculation-all-v-all-1000--1000-v2.json'\n",
    "\n",
    "with open(FULL_SHOTGUN_V_16S) as fp:\n",
    "    entries = json.load(fp)"
   ]
  },
  {
   "cell_type": "code",
   "execution_count": 27,
   "metadata": {},
   "outputs": [],
   "source": [
    "power_df = pd.DataFrame(entries)"
   ]
  },
  {
   "cell_type": "code",
   "execution_count": 28,
   "metadata": {},
   "outputs": [],
   "source": [
    "alpha = 0.05\n",
    "power_df['reject_null'] = power_df['pvalue'] < alpha"
   ]
  },
  {
   "cell_type": "code",
   "execution_count": 29,
   "metadata": {},
   "outputs": [
    {
     "name": "stderr",
     "output_type": "stream",
     "text": [
      "findfont: Font family ['normal'] not found. Falling back to DejaVu Sans.\n",
      "findfont: Font family ['normal'] not found. Falling back to DejaVu Sans.\n"
     ]
    },
    {
     "data": {
      "image/png": "[encoded data removed]",
      "text/plain": [
       "<Figure size 908.85x360 with 2 Axes>"
      ]
     },
     "metadata": {
      "needs_background": "light"
     },
     "output_type": "display_data"
    }
   ],
   "source": [
    "font = {'family' : 'normal',\n",
    "        'weight' : 'bold',\n",
    "        'size'   : 16}\n",
    "\n",
    "matplotlib.rc('font', **font)\n",
    "\n",
    "name_map = {\n",
    "    'reject_null': 'Power',\n",
    "    'data_type': 'Data Type'\n",
    "}\n",
    "sns.set_palette([sns.color_palette('tab10')[3], sns.color_palette('tab10')[8]])\n",
    "\n",
    "power_df = power_df.replace({'shotgun': 'Metagenomics'})\n",
    "power_df_renamed = power_df.rename(name_map, axis=1)\n",
    "\n",
    "\n",
    "g = sns.relplot(\n",
    "    x='sample_size',\n",
    "    y=name_map['reject_null'],\n",
    "    hue='metric',\n",
    "    col=name_map['data_type'],\n",
    "    kind='line',\n",
    "    marker='o',\n",
    "    data=power_df_renamed,\n",
    ")\n",
    "\n",
    "leg = g._legend\n",
    "leg.set_title('Metric')\n",
    "new_labels = ['Faith\\'s PD', 'Observed Features']\n",
    "for t, l in zip(leg.texts, new_labels):\n",
    "    t.set_text(l)\n",
    "\n",
    "for ax in g.axes.flat:\n",
    "    ax.set_xlabel('Sample Size')\n",
    "\n",
    "plt.gcf().subplots_adjust(bottom=0.15)\n",
    "plt.savefig('results/2.01-figure-02.png', dpi=400)"
   ]
  },
  {
   "cell_type": "code",
   "execution_count": null,
   "metadata": {},
   "outputs": [],
   "source": []
  }
 ],
 "metadata": {
  "kernelspec": {
   "display_name": "faith-pd-bench",
   "language": "python",
   "name": "faith-pd-bench"
  },
  "language_info": {
   "codemirror_mode": {
    "name": "ipython",
    "version": 3
   },
   "file_extension": ".py",
   "mimetype": "text/x-python",
   "name": "python",
   "nbconvert_exporter": "python",
   "pygments_lexer": "ipython3",
   "version": "3.6.11"
  }
 },
 "nbformat": 4,
 "nbformat_minor": 2
}
