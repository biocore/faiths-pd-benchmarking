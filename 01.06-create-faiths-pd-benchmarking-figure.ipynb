{
 "cells": [
  {
   "cell_type": "code",
   "execution_count": 61,
   "metadata": {},
   "outputs": [],
   "source": [
    "import pandas as pd\n",
    "import json\n",
    "from sklearn.linear_model import LinearRegression\n",
    "import numpy as np\n",
    "import os\n",
    "import seaborn as sns\n",
    "import matplotlib as mpl\n",
    "import matplotlib.pyplot as plt\n",
    "from matplotlib.patches import Patch\n",
    "from matplotlib.lines import Line2D\n",
    "%matplotlib inline\n",
    "\n",
    "import glob"
   ]
  },
  {
   "cell_type": "code",
   "execution_count": null,
   "outputs": [],
   "source": [
    "data_dir = './data/'"
   ],
   "metadata": {
    "collapsed": false,
    "pycharm": {
     "name": "#%%\n"
    }
   }
  },
  {
   "cell_type": "code",
   "execution_count": 62,
   "metadata": {},
   "outputs": [],
   "source": [
    "results_dir = data_dir + 'large-public-subsets/results'"
   ]
  },
  {
   "cell_type": "code",
   "execution_count": 63,
   "metadata": {},
   "outputs": [
    {
     "data": {
      "text/plain": [
       "['merged-results.json']"
      ]
     },
     "execution_count": 63,
     "metadata": {},
     "output_type": "execute_result"
    }
   ],
   "source": [
    "os.listdir(results_dir)"
   ]
  },
  {
   "cell_type": "code",
   "execution_count": 64,
   "metadata": {},
   "outputs": [],
   "source": [
    "df_files = glob.glob(os.path.join(results_dir, '*.json'))"
   ]
  },
  {
   "cell_type": "code",
   "execution_count": 65,
   "metadata": {},
   "outputs": [],
   "source": [
    "df_files = [\n",
    "    ('merged-results.json', 'tuple()')\n",
    "]"
   ]
  },
  {
   "cell_type": "code",
   "execution_count": 66,
   "metadata": {},
   "outputs": [],
   "source": [
    "def parse_df(fp, q):\n",
    "    df = pd.DataFrame(json.load(open(os.path.join(results_dir, fp))))\n",
    "    df['sample_size'] = df['sample_size'].astype(int)\n",
    "    df = df.query(q)\n",
    "    return df"
   ]
  },
  {
   "cell_type": "code",
   "execution_count": 67,
   "metadata": {},
   "outputs": [],
   "source": [
    "df = pd.concat([parse_df(fp, q) for fp, q in df_files])"
   ]
  },
  {
   "cell_type": "code",
   "execution_count": 68,
   "metadata": {},
   "outputs": [
    {
     "data": {
      "text/plain": [
       "Index(['otu_size', 'sample_size', 'rep', 'seed', 'density', 'method',\n",
       "       'Running', 'Python time', 'Command being timed', 'User time (seconds)',\n",
       "       'System time (seconds)', 'Percent of CPU this job got',\n",
       "       'Elapsed (wall clock) time (h:mm:ss or m:ss)',\n",
       "       'Average shared text size (kbytes)',\n",
       "       'Average unshared data size (kbytes)', 'Average stack size (kbytes)',\n",
       "       'Average total size (kbytes)', 'Maximum resident set size (kbytes)',\n",
       "       'Average resident set size (kbytes)',\n",
       "       'Major (requiring I/O) page faults',\n",
       "       'Minor (reclaiming a frame) page faults', 'Voluntary context switches',\n",
       "       'Involuntary context switches', 'Swaps', 'File system inputs',\n",
       "       'File system outputs', 'Socket messages sent',\n",
       "       'Socket messages received', 'Signals delivered', 'Page size (bytes)',\n",
       "       'Exit status', 'Trace', 'File ', 'actua', 'count', '_vect', 'Memor',\n",
       "       'Comma'],\n",
       "      dtype='object')"
      ]
     },
     "execution_count": 68,
     "metadata": {},
     "output_type": "execute_result"
    }
   ],
   "source": [
    "df.columns"
   ]
  },
  {
   "cell_type": "code",
   "execution_count": 69,
   "metadata": {},
   "outputs": [],
   "source": [
    "df['Python time'] = df['Python time'].astype(float)\n",
    "df['Maximum resident set size (kbytes)'] = df['Maximum resident set size (kbytes)'].astype(float)"
   ]
  },
  {
   "cell_type": "code",
   "execution_count": 70,
   "metadata": {},
   "outputs": [
    {
     "data": {
      "text/plain": [
       "[100000]"
      ]
     },
     "execution_count": 70,
     "metadata": {},
     "output_type": "execute_result"
    }
   ],
   "source": [
    "sorted(df['otu_size'].astype(int).unique())"
   ]
  },
  {
   "cell_type": "code",
   "execution_count": 71,
   "metadata": {},
   "outputs": [],
   "source": [
    "df['Exit status'] = df['Exit status'].astype(float)\n",
    "df['sample_size'] = df['sample_size'].astype(float)"
   ]
  },
  {
   "cell_type": "code",
   "execution_count": 72,
   "metadata": {},
   "outputs": [],
   "source": [
    "df_sub = df.loc[(df['otu_size'] == str(100000)) & (df['Exit status'] != 1)]"
   ]
  },
  {
   "cell_type": "code",
   "execution_count": 73,
   "metadata": {},
   "outputs": [
    {
     "data": {
      "text/html": [
       "<div>\n",
       "<style scoped>\n",
       "    .dataframe tbody tr th:only-of-type {\n",
       "        vertical-align: middle;\n",
       "    }\n",
       "\n",
       "    .dataframe tbody tr th {\n",
       "        vertical-align: top;\n",
       "    }\n",
       "\n",
       "    .dataframe thead th {\n",
       "        text-align: right;\n",
       "    }\n",
       "</style>\n",
       "<table border=\"1\" class=\"dataframe\">\n",
       "  <thead>\n",
       "    <tr style=\"text-align: right;\">\n",
       "      <th></th>\n",
       "      <th></th>\n",
       "      <th>otu_size</th>\n",
       "      <th>rep</th>\n",
       "      <th>seed</th>\n",
       "      <th>density</th>\n",
       "      <th>Running</th>\n",
       "      <th>Python time</th>\n",
       "      <th>Command being timed</th>\n",
       "      <th>User time (seconds)</th>\n",
       "      <th>System time (seconds)</th>\n",
       "      <th>Percent of CPU this job got</th>\n",
       "      <th>...</th>\n",
       "      <th>Signals delivered</th>\n",
       "      <th>Page size (bytes)</th>\n",
       "      <th>Exit status</th>\n",
       "      <th>Trace</th>\n",
       "      <th>File</th>\n",
       "      <th>actua</th>\n",
       "      <th>count</th>\n",
       "      <th>_vect</th>\n",
       "      <th>Memor</th>\n",
       "      <th>Comma</th>\n",
       "    </tr>\n",
       "    <tr>\n",
       "      <th>sample_size</th>\n",
       "      <th>method</th>\n",
       "      <th></th>\n",
       "      <th></th>\n",
       "      <th></th>\n",
       "      <th></th>\n",
       "      <th></th>\n",
       "      <th></th>\n",
       "      <th></th>\n",
       "      <th></th>\n",
       "      <th></th>\n",
       "      <th></th>\n",
       "      <th></th>\n",
       "      <th></th>\n",
       "      <th></th>\n",
       "      <th></th>\n",
       "      <th></th>\n",
       "      <th></th>\n",
       "      <th></th>\n",
       "      <th></th>\n",
       "      <th></th>\n",
       "      <th></th>\n",
       "      <th></th>\n",
       "    </tr>\n",
       "  </thead>\n",
       "  <tbody>\n",
       "    <tr>\n",
       "      <th rowspan=\"2\" valign=\"top\">1250.0</th>\n",
       "      <th>skbio</th>\n",
       "      <td>10</td>\n",
       "      <td>10</td>\n",
       "      <td>10</td>\n",
       "      <td>10</td>\n",
       "      <td>10</td>\n",
       "      <td>10</td>\n",
       "      <td>10</td>\n",
       "      <td>10</td>\n",
       "      <td>10</td>\n",
       "      <td>10</td>\n",
       "      <td>...</td>\n",
       "      <td>10</td>\n",
       "      <td>10</td>\n",
       "      <td>10</td>\n",
       "      <td>0</td>\n",
       "      <td>0</td>\n",
       "      <td>0</td>\n",
       "      <td>0</td>\n",
       "      <td>0</td>\n",
       "      <td>0</td>\n",
       "      <td>0</td>\n",
       "    </tr>\n",
       "    <tr>\n",
       "      <th>stacked</th>\n",
       "      <td>10</td>\n",
       "      <td>10</td>\n",
       "      <td>10</td>\n",
       "      <td>10</td>\n",
       "      <td>10</td>\n",
       "      <td>10</td>\n",
       "      <td>10</td>\n",
       "      <td>10</td>\n",
       "      <td>10</td>\n",
       "      <td>10</td>\n",
       "      <td>...</td>\n",
       "      <td>10</td>\n",
       "      <td>10</td>\n",
       "      <td>10</td>\n",
       "      <td>0</td>\n",
       "      <td>0</td>\n",
       "      <td>0</td>\n",
       "      <td>0</td>\n",
       "      <td>0</td>\n",
       "      <td>0</td>\n",
       "      <td>0</td>\n",
       "    </tr>\n",
       "    <tr>\n",
       "      <th rowspan=\"2\" valign=\"top\">2500.0</th>\n",
       "      <th>skbio</th>\n",
       "      <td>10</td>\n",
       "      <td>10</td>\n",
       "      <td>10</td>\n",
       "      <td>10</td>\n",
       "      <td>10</td>\n",
       "      <td>10</td>\n",
       "      <td>10</td>\n",
       "      <td>10</td>\n",
       "      <td>10</td>\n",
       "      <td>10</td>\n",
       "      <td>...</td>\n",
       "      <td>10</td>\n",
       "      <td>10</td>\n",
       "      <td>10</td>\n",
       "      <td>0</td>\n",
       "      <td>0</td>\n",
       "      <td>0</td>\n",
       "      <td>0</td>\n",
       "      <td>0</td>\n",
       "      <td>0</td>\n",
       "      <td>0</td>\n",
       "    </tr>\n",
       "    <tr>\n",
       "      <th>stacked</th>\n",
       "      <td>10</td>\n",
       "      <td>10</td>\n",
       "      <td>10</td>\n",
       "      <td>10</td>\n",
       "      <td>10</td>\n",
       "      <td>10</td>\n",
       "      <td>10</td>\n",
       "      <td>10</td>\n",
       "      <td>10</td>\n",
       "      <td>10</td>\n",
       "      <td>...</td>\n",
       "      <td>10</td>\n",
       "      <td>10</td>\n",
       "      <td>10</td>\n",
       "      <td>0</td>\n",
       "      <td>0</td>\n",
       "      <td>0</td>\n",
       "      <td>0</td>\n",
       "      <td>0</td>\n",
       "      <td>0</td>\n",
       "      <td>0</td>\n",
       "    </tr>\n",
       "    <tr>\n",
       "      <th rowspan=\"2\" valign=\"top\">5000.0</th>\n",
       "      <th>skbio</th>\n",
       "      <td>10</td>\n",
       "      <td>10</td>\n",
       "      <td>10</td>\n",
       "      <td>10</td>\n",
       "      <td>10</td>\n",
       "      <td>10</td>\n",
       "      <td>10</td>\n",
       "      <td>10</td>\n",
       "      <td>10</td>\n",
       "      <td>10</td>\n",
       "      <td>...</td>\n",
       "      <td>10</td>\n",
       "      <td>10</td>\n",
       "      <td>10</td>\n",
       "      <td>0</td>\n",
       "      <td>0</td>\n",
       "      <td>0</td>\n",
       "      <td>0</td>\n",
       "      <td>0</td>\n",
       "      <td>0</td>\n",
       "      <td>0</td>\n",
       "    </tr>\n",
       "    <tr>\n",
       "      <th>stacked</th>\n",
       "      <td>10</td>\n",
       "      <td>10</td>\n",
       "      <td>10</td>\n",
       "      <td>10</td>\n",
       "      <td>10</td>\n",
       "      <td>10</td>\n",
       "      <td>10</td>\n",
       "      <td>10</td>\n",
       "      <td>10</td>\n",
       "      <td>10</td>\n",
       "      <td>...</td>\n",
       "      <td>10</td>\n",
       "      <td>10</td>\n",
       "      <td>10</td>\n",
       "      <td>0</td>\n",
       "      <td>0</td>\n",
       "      <td>0</td>\n",
       "      <td>0</td>\n",
       "      <td>0</td>\n",
       "      <td>0</td>\n",
       "      <td>0</td>\n",
       "    </tr>\n",
       "    <tr>\n",
       "      <th rowspan=\"2\" valign=\"top\">10000.0</th>\n",
       "      <th>skbio</th>\n",
       "      <td>10</td>\n",
       "      <td>10</td>\n",
       "      <td>10</td>\n",
       "      <td>10</td>\n",
       "      <td>10</td>\n",
       "      <td>10</td>\n",
       "      <td>10</td>\n",
       "      <td>10</td>\n",
       "      <td>10</td>\n",
       "      <td>10</td>\n",
       "      <td>...</td>\n",
       "      <td>10</td>\n",
       "      <td>10</td>\n",
       "      <td>10</td>\n",
       "      <td>0</td>\n",
       "      <td>0</td>\n",
       "      <td>0</td>\n",
       "      <td>0</td>\n",
       "      <td>0</td>\n",
       "      <td>0</td>\n",
       "      <td>0</td>\n",
       "    </tr>\n",
       "    <tr>\n",
       "      <th>stacked</th>\n",
       "      <td>10</td>\n",
       "      <td>10</td>\n",
       "      <td>10</td>\n",
       "      <td>10</td>\n",
       "      <td>10</td>\n",
       "      <td>10</td>\n",
       "      <td>10</td>\n",
       "      <td>10</td>\n",
       "      <td>10</td>\n",
       "      <td>10</td>\n",
       "      <td>...</td>\n",
       "      <td>10</td>\n",
       "      <td>10</td>\n",
       "      <td>10</td>\n",
       "      <td>0</td>\n",
       "      <td>0</td>\n",
       "      <td>0</td>\n",
       "      <td>0</td>\n",
       "      <td>0</td>\n",
       "      <td>0</td>\n",
       "      <td>0</td>\n",
       "    </tr>\n",
       "    <tr>\n",
       "      <th rowspan=\"2\" valign=\"top\">20000.0</th>\n",
       "      <th>skbio</th>\n",
       "      <td>10</td>\n",
       "      <td>10</td>\n",
       "      <td>10</td>\n",
       "      <td>10</td>\n",
       "      <td>10</td>\n",
       "      <td>10</td>\n",
       "      <td>10</td>\n",
       "      <td>10</td>\n",
       "      <td>10</td>\n",
       "      <td>10</td>\n",
       "      <td>...</td>\n",
       "      <td>10</td>\n",
       "      <td>10</td>\n",
       "      <td>10</td>\n",
       "      <td>0</td>\n",
       "      <td>0</td>\n",
       "      <td>0</td>\n",
       "      <td>0</td>\n",
       "      <td>0</td>\n",
       "      <td>0</td>\n",
       "      <td>0</td>\n",
       "    </tr>\n",
       "    <tr>\n",
       "      <th>stacked</th>\n",
       "      <td>10</td>\n",
       "      <td>10</td>\n",
       "      <td>10</td>\n",
       "      <td>10</td>\n",
       "      <td>10</td>\n",
       "      <td>10</td>\n",
       "      <td>10</td>\n",
       "      <td>10</td>\n",
       "      <td>10</td>\n",
       "      <td>10</td>\n",
       "      <td>...</td>\n",
       "      <td>10</td>\n",
       "      <td>10</td>\n",
       "      <td>10</td>\n",
       "      <td>0</td>\n",
       "      <td>0</td>\n",
       "      <td>0</td>\n",
       "      <td>0</td>\n",
       "      <td>0</td>\n",
       "      <td>0</td>\n",
       "      <td>0</td>\n",
       "    </tr>\n",
       "    <tr>\n",
       "      <th>40000.0</th>\n",
       "      <th>stacked</th>\n",
       "      <td>10</td>\n",
       "      <td>10</td>\n",
       "      <td>10</td>\n",
       "      <td>10</td>\n",
       "      <td>10</td>\n",
       "      <td>10</td>\n",
       "      <td>10</td>\n",
       "      <td>10</td>\n",
       "      <td>10</td>\n",
       "      <td>10</td>\n",
       "      <td>...</td>\n",
       "      <td>10</td>\n",
       "      <td>10</td>\n",
       "      <td>10</td>\n",
       "      <td>0</td>\n",
       "      <td>0</td>\n",
       "      <td>0</td>\n",
       "      <td>0</td>\n",
       "      <td>0</td>\n",
       "      <td>0</td>\n",
       "      <td>0</td>\n",
       "    </tr>\n",
       "    <tr>\n",
       "      <th>80000.0</th>\n",
       "      <th>stacked</th>\n",
       "      <td>10</td>\n",
       "      <td>10</td>\n",
       "      <td>10</td>\n",
       "      <td>10</td>\n",
       "      <td>10</td>\n",
       "      <td>10</td>\n",
       "      <td>10</td>\n",
       "      <td>10</td>\n",
       "      <td>10</td>\n",
       "      <td>10</td>\n",
       "      <td>...</td>\n",
       "      <td>10</td>\n",
       "      <td>10</td>\n",
       "      <td>10</td>\n",
       "      <td>0</td>\n",
       "      <td>0</td>\n",
       "      <td>0</td>\n",
       "      <td>0</td>\n",
       "      <td>0</td>\n",
       "      <td>0</td>\n",
       "      <td>0</td>\n",
       "    </tr>\n",
       "  </tbody>\n",
       "</table>\n",
       "<p>12 rows × 36 columns</p>\n",
       "</div>"
      ],
      "text/plain": [
       "                     otu_size  rep  seed  density  Running  Python time  \\\n",
       "sample_size method                                                        \n",
       "1250.0      skbio          10   10    10       10       10           10   \n",
       "            stacked        10   10    10       10       10           10   \n",
       "2500.0      skbio          10   10    10       10       10           10   \n",
       "            stacked        10   10    10       10       10           10   \n",
       "5000.0      skbio          10   10    10       10       10           10   \n",
       "            stacked        10   10    10       10       10           10   \n",
       "10000.0     skbio          10   10    10       10       10           10   \n",
       "            stacked        10   10    10       10       10           10   \n",
       "20000.0     skbio          10   10    10       10       10           10   \n",
       "            stacked        10   10    10       10       10           10   \n",
       "40000.0     stacked        10   10    10       10       10           10   \n",
       "80000.0     stacked        10   10    10       10       10           10   \n",
       "\n",
       "                     Command being timed  User time (seconds)  \\\n",
       "sample_size method                                              \n",
       "1250.0      skbio                     10                   10   \n",
       "            stacked                   10                   10   \n",
       "2500.0      skbio                     10                   10   \n",
       "            stacked                   10                   10   \n",
       "5000.0      skbio                     10                   10   \n",
       "            stacked                   10                   10   \n",
       "10000.0     skbio                     10                   10   \n",
       "            stacked                   10                   10   \n",
       "20000.0     skbio                     10                   10   \n",
       "            stacked                   10                   10   \n",
       "40000.0     stacked                   10                   10   \n",
       "80000.0     stacked                   10                   10   \n",
       "\n",
       "                     System time (seconds)  Percent of CPU this job got  ...  \\\n",
       "sample_size method                                                       ...   \n",
       "1250.0      skbio                       10                           10  ...   \n",
       "            stacked                     10                           10  ...   \n",
       "2500.0      skbio                       10                           10  ...   \n",
       "            stacked                     10                           10  ...   \n",
       "5000.0      skbio                       10                           10  ...   \n",
       "            stacked                     10                           10  ...   \n",
       "10000.0     skbio                       10                           10  ...   \n",
       "            stacked                     10                           10  ...   \n",
       "20000.0     skbio                       10                           10  ...   \n",
       "            stacked                     10                           10  ...   \n",
       "40000.0     stacked                     10                           10  ...   \n",
       "80000.0     stacked                     10                           10  ...   \n",
       "\n",
       "                     Signals delivered  Page size (bytes)  Exit status  Trace  \\\n",
       "sample_size method                                                              \n",
       "1250.0      skbio                   10                 10           10      0   \n",
       "            stacked                 10                 10           10      0   \n",
       "2500.0      skbio                   10                 10           10      0   \n",
       "            stacked                 10                 10           10      0   \n",
       "5000.0      skbio                   10                 10           10      0   \n",
       "            stacked                 10                 10           10      0   \n",
       "10000.0     skbio                   10                 10           10      0   \n",
       "            stacked                 10                 10           10      0   \n",
       "20000.0     skbio                   10                 10           10      0   \n",
       "            stacked                 10                 10           10      0   \n",
       "40000.0     stacked                 10                 10           10      0   \n",
       "80000.0     stacked                 10                 10           10      0   \n",
       "\n",
       "                     File   actua  count  _vect  Memor  Comma  \n",
       "sample_size method                                             \n",
       "1250.0      skbio        0      0      0      0      0      0  \n",
       "            stacked      0      0      0      0      0      0  \n",
       "2500.0      skbio        0      0      0      0      0      0  \n",
       "            stacked      0      0      0      0      0      0  \n",
       "5000.0      skbio        0      0      0      0      0      0  \n",
       "            stacked      0      0      0      0      0      0  \n",
       "10000.0     skbio        0      0      0      0      0      0  \n",
       "            stacked      0      0      0      0      0      0  \n",
       "20000.0     skbio        0      0      0      0      0      0  \n",
       "            stacked      0      0      0      0      0      0  \n",
       "40000.0     stacked      0      0      0      0      0      0  \n",
       "80000.0     stacked      0      0      0      0      0      0  \n",
       "\n",
       "[12 rows x 36 columns]"
      ]
     },
     "execution_count": 73,
     "metadata": {},
     "output_type": "execute_result"
    }
   ],
   "source": [
    "df_sub.groupby(['sample_size', 'method']).agg('count')"
   ]
  },
  {
   "cell_type": "code",
   "execution_count": 75,
   "metadata": {},
   "outputs": [],
   "source": [
    "gby = df_sub.groupby(['sample_size', 'method']).agg('mean')"
   ]
  },
  {
   "cell_type": "code",
   "execution_count": 77,
   "metadata": {},
   "outputs": [],
   "source": [
    "def ratio(df):\n",
    "    return df.max() / df.min()"
   ]
  },
  {
   "cell_type": "code",
   "execution_count": 78,
   "metadata": {},
   "outputs": [
    {
     "name": "stderr",
     "output_type": "stream",
     "text": [
      "/home/garmstro/miniconda3/envs/faith-pd-bench/lib/python3.6/site-packages/ipykernel_launcher.py:2: RuntimeWarning: invalid value encountered in double_scalars\n",
      "  \n"
     ]
    }
   ],
   "source": [
    "gby_new = gby.copy().reset_index().groupby('sample_size').agg(ratio)"
   ]
  },
  {
   "cell_type": "code",
   "execution_count": 80,
   "metadata": {},
   "outputs": [
    {
     "name": "stderr",
     "output_type": "stream",
     "text": [
      "/home/garmstro/miniconda3/envs/faith-pd-bench/lib/python3.6/site-packages/pandas/core/reshape/merge.py:617: UserWarning: merging between different levels can give an unintended result (2 levels on the left, 1 on the right)\n",
      "  warnings.warn(msg, UserWarning)\n"
     ]
    }
   ],
   "source": [
    "gby_full = gby.unstack(level=1).join(gby_new)"
   ]
  },
  {
   "cell_type": "code",
   "execution_count": null,
   "outputs": [],
   "source": [
    "gby_full"
   ],
   "metadata": {
    "collapsed": false,
    "pycharm": {
     "name": "#%%\n"
    }
   }
  },
  {
   "cell_type": "code",
   "execution_count": 81,
   "metadata": {},
   "outputs": [],
   "source": [
    "with pd.ExcelWriter('speedup-table.xlsx') as writer:\n",
    "    gby_full.to_excel(writer)"
   ]
  },
  {
   "cell_type": "code",
   "execution_count": 98,
   "metadata": {},
   "outputs": [
    {
     "name": "stderr",
     "output_type": "stream",
     "text": [
      "/home/garmstro/miniconda3/envs/faith-pd-bench/lib/python3.6/site-packages/ipykernel_launcher.py:41: MatplotlibDeprecationWarning: The 'basey' parameter of __init__() has been renamed 'base' since Matplotlib 3.3; support for the old name will be dropped two minor releases later.\n"
     ]
    },
    {
     "name": "stdout",
     "output_type": "stream",
     "text": [
      "0       1250.0\n",
      "1       1250.0\n",
      "2       2500.0\n",
      "3       5000.0\n",
      "4      20000.0\n",
      "        ...   \n",
      "133     1250.0\n",
      "134     2500.0\n",
      "135     5000.0\n",
      "136    10000.0\n",
      "137    20000.0\n",
      "Name: sample_size, Length: 120, dtype: float64\n"
     ]
    },
    {
     "data": {
      "image/png": "[encoded data removed]",
      "text/plain": [
       "<Figure size 700x869.565 with 2 Axes>"
      ]
     },
     "metadata": {},
     "output_type": "display_data"
    }
   ],
   "source": [
    "plt.style.use('default')\n",
    "\n",
    "FONT_SIZE = 22\n",
    "paper_rc = {'lines.linewidth': 2, \n",
    "            'lines.markersize': 10}                  \n",
    "sns.set_context(\"paper\", rc = paper_rc)   \n",
    "plt.rcParams['xtick.labelsize'] = FONT_SIZE\n",
    "plt.rcParams['ytick.labelsize'] = FONT_SIZE\n",
    "font = {'weight' : 'bold',\n",
    "        'size'   : FONT_SIZE\n",
    "       }\n",
    "\n",
    "mpl.rc('font', **font)\n",
    "\n",
    "POINT_SIZE=3\n",
    "x_size = 7\n",
    "y_size = 2 / 1.61 * x_size\n",
    "fig, axs = plt.subplots(2, 1,\n",
    "                        figsize=(x_size, y_size),\n",
    "                        sharex=False)\n",
    "\n",
    "ax = sns.lineplot(\n",
    "    x='sample_size',\n",
    "    y='Maximum resident set size (kbytes)',\n",
    "    hue='method',\n",
    "    data=df_sub,\n",
    "    marker=\"o\",\n",
    "    err_style=\"bars\",\n",
    "    linewidth=POINT_SIZE,\n",
    "\n",
    "    ci=95,\n",
    "    hue_order=['skbio', 'stacked'],\n",
    "    ax=axs[1]\n",
    ")\n",
    "ax.legend().remove()\n",
    "ax.set_yscale('log', basey=2)\n",
    "ax.set_xscale('log')\n",
    "ax.set_xbound(1000, 100000)\n",
    "\n",
    "ax.set_xlabel('Number of samples', size=FONT_SIZE)\n",
    "ax.set_ylabel('Memory (kilobytes)', size=FONT_SIZE)\n",
    "\n",
    "plt.legend([],[], frameon=False)\n",
    "\n",
    "ax = sns.lineplot(\n",
    "    x='sample_size',\n",
    "    y='Python time',\n",
    "    hue='method',\n",
    "    data=df_sub,\n",
    "    marker=\"o\",\n",
    "    err_style=\"bars\",\n",
    "    ci=95,\n",
    "    linewidth=POINT_SIZE,\n",
    "    hue_order=['skbio', 'stacked'],\n",
    "    ax=axs[0]\n",
    ")\n",
    "\n",
    "print(df_sub['sample_size'])\n",
    "\n",
    "ax.legend().remove()\n",
    "# NOTE: cannot set aspect ratio\n",
    "ax.set_xscale('log')\n",
    "ax.set_yscale('log')\n",
    "ax.set_xbound(1000, 100000)\n",
    "ax.set_xlabel('Number of samples', size=FONT_SIZE)\n",
    "ax.set_ylabel('Time (s)', size=FONT_SIZE)\n",
    "plt.legend([],[], frameon=False)\n",
    "plt.tight_layout()\n",
    "plt.savefig('21-02-17-figures/figure-01-benchmarking-results.png')\n",
    "plt.show()\n"
   ]
  },
  {
   "cell_type": "code",
   "execution_count": null,
   "metadata": {},
   "outputs": [],
   "source": []
  },
  {
   "cell_type": "code",
   "execution_count": 27,
   "metadata": {
    "pycharm": {
     "name": "#%%\n"
    }
   },
   "outputs": [
    {
     "data": {
      "image/png": "[encoded data removed]",
      "text/plain": [
       "<Figure size 2000x200 with 1 Axes>"
      ]
     },
     "metadata": {},
     "output_type": "display_data"
    }
   ],
   "source": [
    "palette = sns.color_palette()\n",
    "\n",
    "legend_elements = [\n",
    "    Patch(facecolor=palette[1], edgecolor='black',\n",
    "          linewidth=3,\n",
    "          label='Stacked Faith\\'s PD',\n",
    "          ),\n",
    "    Patch(facecolor=palette[0], edgecolor='black',\n",
    "          linewidth=3,\n",
    "          label='Reference Implementation'\n",
    "          ),\n",
    "]\n",
    "\n",
    "# Create the figure\n",
    "fig, ax = plt.subplots(figsize=(20, 2))\n",
    "legend = ax.legend(handles=legend_elements, loc='center',\n",
    "          fontsize=40, ncol=2, framealpha=0.0,\n",
    "         )\n",
    "plt.axis('off')\n",
    "plt.savefig('figures/figure-01-legend.png')\n",
    "plt.show()\n"
   ]
  }
 ],
 "metadata": {
  "kernelspec": {
   "name": "python3",
   "language": "python",
   "display_name": "Python 3"
  },
  "language_info": {
   "codemirror_mode": {
    "name": "ipython",
    "version": 3
   },
   "file_extension": ".py",
   "mimetype": "text/x-python",
   "name": "python",
   "nbconvert_exporter": "python",
   "pygments_lexer": "ipython3",
   "version": "3.6.11"
  }
 },
 "nbformat": 4,
 "nbformat_minor": 2
}